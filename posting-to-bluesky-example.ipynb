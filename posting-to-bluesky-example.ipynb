{
 "cells": [
  {
   "cell_type": "markdown",
   "id": "c883cd18-d462-4827-a501-3caa271858d7",
   "metadata": {},
   "source": [
    "# Posting an Image to BlueSky\n",
    "This Notebook will give an example of how to use Python to post an image with descriptive text to BlueSky. It will show how to create a session where we log in to our BlueSky account, pull an image from somewhere, automatically write the post text and then publish it. \n",
    "\n",
    "As you will see, this is actually incredibly simple and only requires brand new Python package to achieve."
   ]
  },
  {
   "cell_type": "markdown",
   "id": "bb4e67a0-db04-43b8-be5d-ed5276222a09",
   "metadata": {},
   "source": [
    "## Required Imports\n",
    "First, we need some very basic Python packages to create the post. Which base ones you need will depend on the kind of bot you want to create. Here, we pull the image and description of it from two different sources in the Galaxy Zoo archives. Therefore, we need to interact with urls and .csvs hidden away on different servers. This is possible with a combination of the requests, pandas and pillow Python packages. "
   ]
  },
  {
   "cell_type": "code",
   "execution_count": 1,
   "id": "f1470295-d54d-43d3-b272-e8867beb9bb8",
   "metadata": {},
   "outputs": [],
   "source": [
    "import pandas as pd\n",
    "import numpy as np\n",
    "from PIL import Image\n",
    "import requests\n",
    "from io import BytesIO\n",
    "import os"
   ]
  },
  {
   "cell_type": "markdown",
   "id": "53557b81-ebc0-40b6-9383-5f070fbcf135",
   "metadata": {},
   "source": [
    "I also import BytesIO here, as it allows us to read the requested image directly into the memory of the workflow, rather than having to save it somewhere. It also allows us to post the image very easily.\n",
    "\n",
    "However, the one new Python package we need is the atproto python package. For a full description, please go to the docs [here](https://atproto.blue/en/latest/). This package is still very much under construction, but it allows us to easily and efficiently interface with the BlueSky API. Here, we will only use it to make posts, but this package can also be used to like, repost and comment on existing posts. From this package, we import the Client class."
   ]
  },
  {
   "cell_type": "code",
   "execution_count": 2,
   "id": "96b64cdf-05c8-4f2a-a9e8-124fe350bed7",
   "metadata": {},
   "outputs": [],
   "source": [
    "from atproto import Client"
   ]
  },
  {
   "cell_type": "markdown",
   "id": "0834b08a-5ed6-4bf1-88e2-21cf8ead0ce3",
   "metadata": {},
   "source": [
    "## Using atproto to Sign In\n",
    "To make a post, we must first sign in to our (or our bots) BlueSky account. For this, we will require only our BlueSky username and password. I highly recommend that you DO NOT write these details in your code. For this example when testing your bot, I'd recommend that you make your details environment variables and get them using the os Python package.\n",
    "\n",
    "Note, when we write the GitHub workflow in a later Notebook, we will load in our BlueSky details using Secret Access Tokens. These are set up on GitHub itself, and are fully encrypted and hidden from any other users. However, from a programming perspective, they act precisely like environment variables. Thus, when we write the script and workflow of the bot, the below code will still work."
   ]
  },
  {
   "cell_type": "code",
   "execution_count": 3,
   "id": "1f4e985c-08b1-4749-a7b6-750341ad96ca",
   "metadata": {},
   "outputs": [],
   "source": [
    "client = Client() # Initialise the Client class."
   ]
  },
  {
   "cell_type": "code",
   "execution_count": 36,
   "id": "a97e384b-bad6-4af1-b0db-d4abc4240cc0",
   "metadata": {},
   "outputs": [],
   "source": [
    "usrname = os.getenv('BLUESKY_USRNAME')"
   ]
  },
  {
   "cell_type": "code",
   "execution_count": null,
   "id": "596af860-7a3d-4929-8fc9-7a3bcee7f8cd",
   "metadata": {},
   "outputs": [],
   "source": [
    "pwd = os.getenv('BLUESKY_PWD')"
   ]
  },
  {
   "cell_type": "code",
   "execution_count": 38,
   "id": "3ed25f59-71d5-461d-9903-e78db4b4566f",
   "metadata": {},
   "outputs": [],
   "source": [
    "_ = client.login(usrname, pwd)"
   ]
  },
  {
   "cell_type": "markdown",
   "id": "706cb90e-0724-4c15-aede-52afa2e0581a",
   "metadata": {},
   "source": [
    "While I have subdued the output of the function here, you will either get a long string explaining that you are signed in or a long string saying that you aren't. If you have failed to sign in, there will be a piece of string in the output dictionary which will tell you why. Often, it is an 'Access Denied' error which means there is something wrong with the syntax, or text in your password or username. While there are many things that can go wrong, the two that tripped me up the most were:\n",
    "\n",
    "    1. Some characters get converted to unicode when read in (though, this shouldn't happen is you use the environment variable method). So, your password or username may be corrupted between here and signing in.\n",
    "    \n",
    "    2. There are protected environment variables that cannot be overwritten. If you try to set one of these they will actually retain their original value. Therefore, your login credentials will be incorrect. Test with different environment variable names if necessary, or look up what the protected ones are."
   ]
  },
  {
   "cell_type": "markdown",
   "id": "57dfc0b9-40e4-4fd7-a7d2-31dbbbf95a76",
   "metadata": {},
   "source": [
    "## Getting the Galaxy Image\n",
    "Now that we are logged in, we are ready to start building our BlueSky post! This example bot, of course, publishes galaxy images with some descriptive post text. So, let's do this piece by piece. \n",
    "\n",
    "First, we want to get the galaxy image. As stated previously, this image is pulled from a url which is contained in a master .csv file hosted on GitHub. We read in the .csv file from it's URL on GitHub (you must use the RAW link, and not the DIRECT link). This has also been stored as an environment variable."
   ]
  },
  {
   "cell_type": "code",
   "execution_count": null,
   "id": "c841307d-3801-40ad-b74f-3ef7d7c61fba",
   "metadata": {},
   "outputs": [],
   "source": [
    "cat_path = os.getenv('CATALOGUE_PATH')\n",
    "full_csv = pd.read_csv(cat_path)"
   ]
  },
  {
   "cell_type": "markdown",
   "id": "d253dc94-574b-4395-b114-7f22b1fd96c1",
   "metadata": {},
   "source": [
    "In our case, this .csv contains of the order of millions of galaxies across all the Galaxy Zoo Projects. As we want to post one, and our sample is not so small to worry about duplication of rows yet, we simply use the pandas sample function to randomnly select a row in the .csv and extract the URL of the image."
   ]
  },
  {
   "cell_type": "code",
   "execution_count": null,
   "id": "344de72a-1e85-4137-8bab-3e4cef9ddd18",
   "metadata": {},
   "outputs": [],
   "source": [
    "gal_row = pd.read_csv(cat_path).sample(1)\n",
    "url = gal_row['image_url'].iloc[0]"
   ]
  },
  {
   "cell_type": "markdown",
   "id": "37057dd1-a9db-499e-87e1-d24fc5705dd2",
   "metadata": {},
   "source": [
    "With the URL, we can now use the requests package to pull the image data and convert this to Bytes with the BytesIO package."
   ]
  },
  {
   "cell_type": "code",
   "execution_count": null,
   "id": "c0e0b3e2-c174-4ada-b2c0-d3c080553b21",
   "metadata": {},
   "outputs": [],
   "source": [
    "def pull_galaxy_image(url):\n",
    "    response = requests.get(url)\n",
    "    img_data = BytesIO(response.content)\n",
    "    return img_data "
   ]
  },
  {
   "cell_type": "code",
   "execution_count": null,
   "id": "a3b96ab8-3b2b-409a-bf82-e55001fb7bcf",
   "metadata": {},
   "outputs": [],
   "source": [
    "img_data = pull_galaxy_image(url)"
   ]
  },
  {
   "cell_type": "markdown",
   "id": "9632b88c-68ed-4c51-82c8-3aaeb00bf861",
   "metadata": {},
   "source": [
    "This small function that we have written returns the galaxy image in a format that can be directly uploaded to BlueSky. Therefore, we do nothing further with it here. If you wish to manipulate and look at the image yourself, you can use the Pillow package to convert it from a BytesIO object to an image."
   ]
  },
  {
   "cell_type": "code",
   "execution_count": null,
   "id": "844717bb-621e-4b11-9105-0c0d354afbc8",
   "metadata": {},
   "outputs": [],
   "source": [
    "image = Image.open(img_data)\n",
    "image"
   ]
  },
  {
   "cell_type": "markdown",
   "id": "61b8ce23-cc0c-4257-820c-da9e28596f98",
   "metadata": {},
   "source": [
    "We now have our image for our post! Of course, how you pull the image will depend on how you store them. This is just an example of how we have done this.\n",
    "\n",
    "Now that we have an image to post, we need to automatically write the post information!"
   ]
  },
  {
   "cell_type": "markdown",
   "id": "3fd4bb14-c767-4866-89b8-9e3c3abd1773",
   "metadata": {},
   "source": [
    "## Writing the Post\n",
    "This will heavily depend on what you want your bot to actually do. With our bot, we have a set of informative columns in our DataFrame row which have everything we need to write a brief description of our galaxy. We read the row we have selected previously and extract the different pieces of information and format them into a post.\n",
    "\n",
    "The example function below can act as inspiration for what you would like to do!"
   ]
  },
  {
   "cell_type": "code",
   "execution_count": 118,
   "id": "2da26bd8-beef-40c7-acf8-a798cd35eebf",
   "metadata": {},
   "outputs": [],
   "source": [
    "def create_post_text(row):\n",
    "    if type(row.redshift.iloc[0]) == str:\n",
    "        z = row.redshift.iloc[0]\n",
    "    else:\n",
    "        z = \"%.2f\" % ( row.redshift.iloc[0] )\n",
    "    ra = \"%.5f\" % row.ra.iloc[0]\n",
    "    dec = \"%.5f\" % row.dec.iloc[0]\n",
    "    clsf = row.galaxy_description.iloc[0]\n",
    "    survey = row.imaging.iloc[0]\n",
    "    if \"CANDELS-COODS\" in survey:\n",
    "        survey = 'CANDELS-GOODS'\n",
    "       \n",
    "    project = row.project.iloc[0]\n",
    "    if 'Hubble' in project:\n",
    "        instr = 'Hubble Space Telescope'\n",
    "    elif 'CANDELS' in project:\n",
    "        instr = 'Hubble Space Telescope'\n",
    "    elif 'Galaxy Zoo 2' in project:\n",
    "        instr = 'Apache Point 2.5m Telescope'\n",
    "\n",
    "    t_lookback = row.t_lookback.iloc[0]\n",
    "    if t_lookback < 1:\n",
    "        tmp = t_lookback * 1000\n",
    "        t_lookback_string = '%.3f million years' % tmp\n",
    "    else:\n",
    "        t_lookback_string = '%.2f billion years' % t_lookback\n",
    "\n",
    "    random_no = np.random.random()\n",
    "\n",
    "    if random_no < (1/24):\n",
    "        \n",
    "        metadata = (\n",
    "    \"\"\"A {}, observed with the {} in the {} survey.\n",
    "    \n",
    "It is at redshift {} (lookback time {}) with coordinates ({}, {}).\n",
    "\n",
    "This classification was made in the {} project.\n",
    "\\U0001f52d\n",
    "    \"\"\".format(\n",
    "                clsf, instr, survey, z, t_lookback_string, ra, dec, project\n",
    "            )\n",
    "        )\n",
    "    else:\n",
    "        metadata = (\n",
    "    \"\"\"A {}, observed with the {} in the {} survey.\n",
    "    \n",
    "It is at redshift {} (lookback time {}) with coordinates ({}, {}).\n",
    "\n",
    "This classification was made in the {} project.\n",
    "    \"\"\").format(\n",
    "                clsf, instr, survey, z, t_lookback_string, ra, dec, project\n",
    "            )\n",
    "\n",
    "    return metadata"
   ]
  },
  {
   "cell_type": "code",
   "execution_count": null,
   "id": "759013a6-e8a2-4e24-bbfc-7316a130adb3",
   "metadata": {},
   "outputs": [],
   "source": [
    "post_string = create_metadata(gal_row)"
   ]
  },
  {
   "cell_type": "markdown",
   "id": "5da0be6c-154f-41db-a7dd-3b59418ed59d",
   "metadata": {},
   "source": [
    "Upon running the above function, we can look at the post string we have created."
   ]
  },
  {
   "cell_type": "code",
   "execution_count": 50,
   "id": "78a4886c-0bb9-442e-939e-1927d2bc1c34",
   "metadata": {},
   "outputs": [
    {
     "name": "stdout",
     "output_type": "stream",
     "text": [
      "A spiral galaxy, observed with the Hubble Space Telescope in the COSMOS survey.\n",
      "    \n",
      "It is at redshift 0.51 (lookback time 5.28 billion years) with coordinates (150.52525, 2.82778).\n",
      "\n",
      "This classification was made in the GZ: Hubble project.\n",
      "🔭\n",
      "    \n"
     ]
    }
   ],
   "source": [
    "print(post_string)"
   ]
  },
  {
   "cell_type": "markdown",
   "id": "65accb67-7e05-447d-b282-c6c038374cd2",
   "metadata": {},
   "source": [
    "We have also included a chance that a telescope emoji will be added to our post string. This is to cross post our publication with the Astronomy feed. You can look up the unicode for the emoji that conducts the cross post you want, and follow suit if you would like! Note that to work, your bot must also be allowed to post on those feeds. So, talk to the respective administrators if needed."
   ]
  },
  {
   "cell_type": "markdown",
   "id": "ae3187f3-6472-473d-a2c8-ccbb8d2e00a0",
   "metadata": {},
   "source": [
    "## Publishing the Post\n",
    "So, we have now got the two main things we need for our post: the image and the string. We just have to post it now and add some alternative text. This can be done with a single function within the client class we initialised and logged in with earlier.\n",
    "\n",
    "We pass this, the post string and image (in Bytes) to our own post function. We also send some other parameters to build some dynamic alternative text as well."
   ]
  },
  {
   "cell_type": "code",
   "execution_count": null,
   "id": "95b273f5-df45-4f30-9300-2c9ff936c2ca",
   "metadata": {},
   "outputs": [],
   "source": [
    "def post(image, post_string, client, clsf, project):\n",
    "\n",
    "    alt_im_text = 'A {} from the {} project.'.format(clsf, project)\n",
    "\n",
    "    response = (\n",
    "        client.send_image(\n",
    "            text = post_string, \n",
    "            image = image, \n",
    "            image_alt = alt_im_text\n",
    "        )\n",
    "    )\n",
    "    \n",
    "    return response"
   ]
  },
  {
   "cell_type": "code",
   "execution_count": 53,
   "id": "848edd6c-2850-452b-9881-d4ae79379df7",
   "metadata": {},
   "outputs": [
    {
     "name": "stdout",
     "output_type": "stream",
     "text": [
      "uri='at://did:plc:6itg6aj2yv3gug4ah7ejicsu/app.bsky.feed.post/3kr7bdrkdzf24' cid='bafyreidtdbaowxdriuqnkecz3424gu2mm7fpq6gg3hwg37736wia2ejyli'\n"
     ]
    }
   ],
   "source": [
    "# Posting\n",
    "response = post(image, post_string, client, gal_row.galaxy_description.iloc[0], gal_row.project.iloc[0])\n",
    "print(response)"
   ]
  },
  {
   "cell_type": "markdown",
   "id": "48af25c4-e295-41e4-80a2-ce2f70a0d932",
   "metadata": {},
   "source": [
    "Running our function leads to our posting! The response shows us the ID and uri of the post. However, if you now go to your BlueSky account, you will be able to see the post yourself!\n",
    "\n",
    "So, we now have the outline of the bot that will be making these posts. We just have to automate this... This is shown in the Python script gz-bot.py where, essentially, the above is done just in a way the GitHub Actions can run them. The main challenge is now getting the workflow running with regular triggers."
   ]
  },
  {
   "cell_type": "code",
   "execution_count": null,
   "id": "de28003f-53c3-4c6e-ae03-3cbc4a321502",
   "metadata": {},
   "outputs": [],
   "source": []
  }
 ],
 "metadata": {
  "kernelspec": {
   "display_name": "Python 3 (ipykernel)",
   "language": "python",
   "name": "python3"
  },
  "language_info": {
   "codemirror_mode": {
    "name": "ipython",
    "version": 3
   },
   "file_extension": ".py",
   "mimetype": "text/x-python",
   "name": "python",
   "nbconvert_exporter": "python",
   "pygments_lexer": "ipython3",
   "version": "3.11.9"
  }
 },
 "nbformat": 4,
 "nbformat_minor": 5
}
