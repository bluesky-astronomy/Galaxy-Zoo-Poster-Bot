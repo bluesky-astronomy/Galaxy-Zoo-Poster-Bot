{
 "cells": [
  {
   "cell_type": "markdown",
   "id": "c883cd18-d462-4827-a501-3caa271858d7",
   "metadata": {},
   "source": [
    "## Testing the API"
   ]
  },
  {
   "cell_type": "markdown",
   "id": "bb4e67a0-db04-43b8-be5d-ed5276222a09",
   "metadata": {},
   "source": [
    "## Signing in"
   ]
  },
  {
   "cell_type": "code",
   "execution_count": 9,
   "id": "96b64cdf-05c8-4f2a-a9e8-124fe350bed7",
   "metadata": {},
   "outputs": [],
   "source": [
    "from atproto import Client\n",
    "\n",
    "import pandas as pd\n",
    "import numpy as np\n",
    "from PIL import Image\n",
    "import requests\n",
    "from io import BytesIO\n",
    "import emoji\n",
    "\n",
    "import os"
   ]
  },
  {
   "cell_type": "code",
   "execution_count": 2,
   "id": "6119a3a4-aa9e-4005-a234-24a0f10b989f",
   "metadata": {},
   "outputs": [],
   "source": [
    "cwd = 'C:/Users/dorya/Documents'"
   ]
  },
  {
   "cell_type": "code",
   "execution_count": 3,
   "id": "24b80f5f-377d-45f4-a7bf-23cd5607f8b6",
   "metadata": {},
   "outputs": [],
   "source": [
    "data_folder = f'{cwd}/data'"
   ]
  },
  {
   "cell_type": "code",
   "execution_count": 4,
   "id": "1f4e985c-08b1-4749-a7b6-750341ad96ca",
   "metadata": {},
   "outputs": [],
   "source": [
    "client = Client()"
   ]
  },
  {
   "cell_type": "code",
   "execution_count": 36,
   "id": "a97e384b-bad6-4af1-b0db-d4abc4240cc0",
   "metadata": {},
   "outputs": [],
   "source": [
    "with open(f'{data_folder}/usr_access') as f:\n",
    "    usrname = f.read().strip()"
   ]
  },
  {
   "cell_type": "code",
   "execution_count": 37,
   "id": "97bd492a-6fc5-4564-b1e4-a5c1e0ed0900",
   "metadata": {},
   "outputs": [],
   "source": [
    "with open(f'{data_folder}/key_access') as f:\n",
    "    pwd = f.read().strip()"
   ]
  },
  {
   "cell_type": "code",
   "execution_count": null,
   "id": "596af860-7a3d-4929-8fc9-7a3bcee7f8cd",
   "metadata": {},
   "outputs": [],
   "source": []
  },
  {
   "cell_type": "code",
   "execution_count": 38,
   "id": "3ed25f59-71d5-461d-9903-e78db4b4566f",
   "metadata": {},
   "outputs": [],
   "source": [
    "_ = client.login(usrname, pwd)"
   ]
  },
  {
   "cell_type": "markdown",
   "id": "9526173e-f03f-42a4-88d7-83c0a9a25414",
   "metadata": {},
   "source": [
    "## Making a Post"
   ]
  },
  {
   "cell_type": "code",
   "execution_count": 39,
   "id": "c3a19562-758f-47b2-a774-e42be3f1aa30",
   "metadata": {},
   "outputs": [],
   "source": [
    "# client.send_post('Hello World')"
   ]
  },
  {
   "cell_type": "markdown",
   "id": "478e9bb4-1a0e-4f92-a088-391a834cf3d8",
   "metadata": {},
   "source": [
    "It worked!"
   ]
  },
  {
   "cell_type": "markdown",
   "id": "57dfc0b9-40e4-4fd7-a7d2-31dbbbf95a76",
   "metadata": {},
   "source": [
    "## Building the Framework of the Bot"
   ]
  },
  {
   "cell_type": "code",
   "execution_count": 118,
   "id": "2da26bd8-beef-40c7-acf8-a798cd35eebf",
   "metadata": {},
   "outputs": [],
   "source": [
    "def create_metadata(row):\n",
    "    if type(row.redshift.iloc[0]) == str:\n",
    "        z = row.redshift.iloc[0]\n",
    "    else:\n",
    "        z = \"%.2f\" % ( row.redshift.iloc[0] )\n",
    "    ra = \"%.5f\" % row.ra.iloc[0]\n",
    "    dec = \"%.5f\" % row.dec.iloc[0]\n",
    "    clsf = row.galaxy_description.iloc[0]\n",
    "    survey = row.imaging.iloc[0]\n",
    "    if \"CANDELS-COODS\" in survey:\n",
    "        survey = 'CANDELS-GOODS'\n",
    "       \n",
    "    project = row.project.iloc[0]\n",
    "    if 'Hubble' in project:\n",
    "        instr = 'Hubble Space Telescope'\n",
    "    elif 'CANDELS' in project:\n",
    "        instr = 'Hubble Space Telescope'\n",
    "    elif 'Galaxy Zoo 2' in project:\n",
    "        instr = 'Apache Point 2.5m Telescope'\n",
    "\n",
    "    t_lookback = row.t_lookback.iloc[0]\n",
    "    if t_lookback < 1:\n",
    "        tmp = t_lookback * 1000\n",
    "        t_lookback_string = '%.3f million years' % tmp\n",
    "    else:\n",
    "        t_lookback_string = '%.2f billion years' % t_lookback\n",
    "\n",
    "    random_no = np.random.random()\n",
    "\n",
    "    if random_no < (1/24):\n",
    "        \n",
    "        metadata = (\n",
    "    \"\"\"A {}, observed with the {} in the {} survey.\n",
    "    \n",
    "It is at redshift {} (lookback time {}) with coordinates ({}, {}).\n",
    "\n",
    "This classification was made in the {} project.\n",
    "\\U0001f52d\n",
    "    \"\"\".format(\n",
    "                clsf, instr, survey, z, t_lookback_string, ra, dec, project\n",
    "            )\n",
    "        )\n",
    "    else:\n",
    "        metadata = (\n",
    "    \"\"\"A {}, observed with the {} in the {} survey.\n",
    "    \n",
    "It is at redshift {} (lookback time {}) with coordinates ({}, {}).\n",
    "\n",
    "This classification was made in the {} project.\n",
    "    \"\"\").format(\n",
    "                clsf, instr, survey, z, t_lookback_string, ra, dec, project\n",
    "            )\n",
    "\n",
    "    return metadata"
   ]
  },
  {
   "cell_type": "code",
   "execution_count": 41,
   "id": "76957e16-c07d-46cc-865f-c70519b36741",
   "metadata": {},
   "outputs": [],
   "source": [
    "## Functions \n",
    "def pull_galaxy_image(url):\n",
    "    response = requests.get(url)\n",
    "    img_data = BytesIO(response.content)\n",
    "    return img_data "
   ]
  },
  {
   "cell_type": "code",
   "execution_count": 52,
   "id": "03452cc1-36a5-4336-b6cf-56fd57879493",
   "metadata": {},
   "outputs": [],
   "source": [
    "def post(image, metadata, client, clsf, project):\n",
    "\n",
    "    alt_im_text = 'A {} from the {} project.'.format(clsf, project)\n",
    "\n",
    "    response = (\n",
    "        client.send_image(\n",
    "            text = metadata, \n",
    "            image = image, \n",
    "            image_alt = 'A Galaxy'\n",
    "        )\n",
    "    )\n",
    "    \n",
    "    return response"
   ]
  },
  {
   "cell_type": "code",
   "execution_count": 43,
   "id": "3ff44918-71a6-4c64-8f3b-eb743c6bc0d8",
   "metadata": {},
   "outputs": [],
   "source": [
    "# Selecting a Galaxy to upload.\n",
    "cat_path = 'https://github.com/vrooje/vrooje.github.io/raw/master/files/gz2_gzh_gzc_gzbot_table.csv'\n",
    "gal_row = pd.read_csv(cat_path).sample(1)\n",
    "url = gal_row['image_url'].iloc[0]"
   ]
  },
  {
   "cell_type": "code",
   "execution_count": 44,
   "id": "7124a2d8-1eb0-4709-9649-7df8c5405d2c",
   "metadata": {},
   "outputs": [
    {
     "data": {
      "text/html": [
       "<div>\n",
       "<style scoped>\n",
       "    .dataframe tbody tr th:only-of-type {\n",
       "        vertical-align: middle;\n",
       "    }\n",
       "\n",
       "    .dataframe tbody tr th {\n",
       "        vertical-align: top;\n",
       "    }\n",
       "\n",
       "    .dataframe thead th {\n",
       "        text-align: right;\n",
       "    }\n",
       "</style>\n",
       "<table border=\"1\" class=\"dataframe\">\n",
       "  <thead>\n",
       "    <tr style=\"text-align: right;\">\n",
       "      <th></th>\n",
       "      <th>subject_id</th>\n",
       "      <th>ra</th>\n",
       "      <th>dec</th>\n",
       "      <th>project</th>\n",
       "      <th>imaging</th>\n",
       "      <th>galaxy_description</th>\n",
       "      <th>redshift</th>\n",
       "      <th>t_lookback</th>\n",
       "      <th>image_url</th>\n",
       "      <th>n_class</th>\n",
       "      <th>...</th>\n",
       "      <th>p_nobar</th>\n",
       "      <th>p_spiral</th>\n",
       "      <th>p_notspiral</th>\n",
       "      <th>p_ring</th>\n",
       "      <th>p_lens</th>\n",
       "      <th>p_disturbed</th>\n",
       "      <th>p_irregular</th>\n",
       "      <th>p_other</th>\n",
       "      <th>p_merger</th>\n",
       "      <th>p_dustlane</th>\n",
       "    </tr>\n",
       "  </thead>\n",
       "  <tbody>\n",
       "    <tr>\n",
       "      <th>11347</th>\n",
       "      <td>AHZ2001sql</td>\n",
       "      <td>150.525248</td>\n",
       "      <td>2.827779</td>\n",
       "      <td>GZ: Hubble</td>\n",
       "      <td>COSMOS</td>\n",
       "      <td>spiral galaxy</td>\n",
       "      <td>0.51</td>\n",
       "      <td>5.281988</td>\n",
       "      <td>http://zoo-hst.s3.amazonaws.com/20190934.jpg</td>\n",
       "      <td>36</td>\n",
       "      <td>...</td>\n",
       "      <td>0.275497</td>\n",
       "      <td>0.677615</td>\n",
       "      <td>0.0</td>\n",
       "      <td>0.031302</td>\n",
       "      <td>0.0</td>\n",
       "      <td>0.031302</td>\n",
       "      <td>0.031302</td>\n",
       "      <td>0.0</td>\n",
       "      <td>0.0</td>\n",
       "      <td>0.0</td>\n",
       "    </tr>\n",
       "  </tbody>\n",
       "</table>\n",
       "<p>1 rows × 27 columns</p>\n",
       "</div>"
      ],
      "text/plain": [
       "       subject_id          ra       dec     project imaging  \\\n",
       "11347  AHZ2001sql  150.525248  2.827779  GZ: Hubble  COSMOS   \n",
       "\n",
       "      galaxy_description redshift  t_lookback  \\\n",
       "11347      spiral galaxy     0.51    5.281988   \n",
       "\n",
       "                                          image_url  n_class  ...   p_nobar  \\\n",
       "11347  http://zoo-hst.s3.amazonaws.com/20190934.jpg       36  ...  0.275497   \n",
       "\n",
       "       p_spiral  p_notspiral    p_ring  p_lens  p_disturbed  p_irregular  \\\n",
       "11347  0.677615          0.0  0.031302     0.0     0.031302     0.031302   \n",
       "\n",
       "       p_other  p_merger  p_dustlane  \n",
       "11347      0.0       0.0         0.0  \n",
       "\n",
       "[1 rows x 27 columns]"
      ]
     },
     "execution_count": 44,
     "metadata": {},
     "output_type": "execute_result"
    }
   ],
   "source": [
    "gal_row"
   ]
  },
  {
   "cell_type": "code",
   "execution_count": 134,
   "id": "dae7d4e0-b45e-4ba6-a0b9-1fc1e9f9dc43",
   "metadata": {},
   "outputs": [
    {
     "name": "stdout",
     "output_type": "stream",
     "text": [
      "False\n",
      "False\n",
      "False\n",
      "False\n",
      "False\n",
      "True\n",
      "False\n",
      "False\n",
      "True\n",
      "False\n",
      "False\n",
      "False\n",
      "False\n",
      "False\n",
      "False\n",
      "False\n",
      "False\n",
      "False\n",
      "False\n",
      "False\n",
      "False\n",
      "True\n",
      "False\n",
      "False\n"
     ]
    }
   ],
   "source": [
    "for i in range(0,24):\n",
    "    post_string = create_metadata(gal_row)\n",
    "    if '\\U0001f52d' in post_string:\n",
    "        print(True)\n",
    "    else:\n",
    "        print(False)"
   ]
  },
  {
   "cell_type": "code",
   "execution_count": 49,
   "id": "e017c7d5-1dbd-4a25-8c77-272c904d9106",
   "metadata": {},
   "outputs": [],
   "source": [
    "# Creating the Post\n",
    "image = pull_galaxy_image(url)\n",
    "post_string = create_metadata(gal_row)"
   ]
  },
  {
   "cell_type": "code",
   "execution_count": 50,
   "id": "78a4886c-0bb9-442e-939e-1927d2bc1c34",
   "metadata": {},
   "outputs": [
    {
     "name": "stdout",
     "output_type": "stream",
     "text": [
      "A spiral galaxy, observed with the Hubble Space Telescope in the COSMOS survey.\n",
      "    \n",
      "It is at redshift 0.51 (lookback time 5.28 billion years) with coordinates (150.52525, 2.82778).\n",
      "\n",
      "This classification was made in the GZ: Hubble project.\n",
      "🔭\n",
      "    \n"
     ]
    }
   ],
   "source": [
    "print(post_string)"
   ]
  },
  {
   "cell_type": "code",
   "execution_count": 53,
   "id": "848edd6c-2850-452b-9881-d4ae79379df7",
   "metadata": {},
   "outputs": [
    {
     "name": "stdout",
     "output_type": "stream",
     "text": [
      "uri='at://did:plc:6itg6aj2yv3gug4ah7ejicsu/app.bsky.feed.post/3kr7bdrkdzf24' cid='bafyreidtdbaowxdriuqnkecz3424gu2mm7fpq6gg3hwg37736wia2ejyli'\n"
     ]
    }
   ],
   "source": [
    "# Posting\n",
    "response = post(image, post_string, client, gal_row.galaxy_description.iloc[0], gal_row.project.iloc[0])\n",
    "print(response)"
   ]
  },
  {
   "cell_type": "code",
   "execution_count": null,
   "id": "4f6696a2-301d-4367-bc22-ac373678e570",
   "metadata": {},
   "outputs": [],
   "source": []
  }
 ],
 "metadata": {
  "kernelspec": {
   "display_name": "Python 3 (ipykernel)",
   "language": "python",
   "name": "python3"
  },
  "language_info": {
   "codemirror_mode": {
    "name": "ipython",
    "version": 3
   },
   "file_extension": ".py",
   "mimetype": "text/x-python",
   "name": "python",
   "nbconvert_exporter": "python",
   "pygments_lexer": "ipython3",
   "version": "3.11.9"
  }
 },
 "nbformat": 4,
 "nbformat_minor": 5
}
