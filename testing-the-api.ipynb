{
 "cells": [
  {
   "cell_type": "markdown",
   "id": "c883cd18-d462-4827-a501-3caa271858d7",
   "metadata": {},
   "source": [
    "## Testing the API"
   ]
  },
  {
   "cell_type": "markdown",
   "id": "bb4e67a0-db04-43b8-be5d-ed5276222a09",
   "metadata": {},
   "source": [
    "## Signing in"
   ]
  },
  {
   "cell_type": "code",
   "execution_count": 25,
   "id": "96b64cdf-05c8-4f2a-a9e8-124fe350bed7",
   "metadata": {},
   "outputs": [],
   "source": [
    "from atproto import Client\n",
    "\n",
    "import pandas as pd\n",
    "from PIL import Image\n",
    "import requests\n",
    "from io import BytesIO\n",
    "\n",
    "import os"
   ]
  },
  {
   "cell_type": "code",
   "execution_count": 26,
   "id": "6119a3a4-aa9e-4005-a234-24a0f10b989f",
   "metadata": {},
   "outputs": [],
   "source": [
    "cwd = os.getcwd()"
   ]
  },
  {
   "cell_type": "code",
   "execution_count": 28,
   "id": "24b80f5f-377d-45f4-a7bf-23cd5607f8b6",
   "metadata": {},
   "outputs": [],
   "source": [
    "data_folder = f'{cwd}/data'"
   ]
  },
  {
   "cell_type": "code",
   "execution_count": 30,
   "id": "1f4e985c-08b1-4749-a7b6-750341ad96ca",
   "metadata": {},
   "outputs": [],
   "source": [
    "client = Client()"
   ]
  },
  {
   "cell_type": "code",
   "execution_count": 31,
   "id": "a97e384b-bad6-4af1-b0db-d4abc4240cc0",
   "metadata": {},
   "outputs": [],
   "source": [
    "with open(f'{data_folder}/usr_access') as f:\n",
    "    usrname = f.read().strip()"
   ]
  },
  {
   "cell_type": "code",
   "execution_count": 32,
   "id": "97bd492a-6fc5-4564-b1e4-a5c1e0ed0900",
   "metadata": {},
   "outputs": [],
   "source": [
    "with open(f'{data_folder}/key_access') as f:\n",
    "    pwd = f.read().strip()"
   ]
  },
  {
   "cell_type": "code",
   "execution_count": 37,
   "id": "3ed25f59-71d5-461d-9903-e78db4b4566f",
   "metadata": {},
   "outputs": [],
   "source": [
    "_ = client.login(usrname, pwd)"
   ]
  },
  {
   "cell_type": "markdown",
   "id": "9526173e-f03f-42a4-88d7-83c0a9a25414",
   "metadata": {},
   "source": [
    "## Making a Post"
   ]
  },
  {
   "cell_type": "code",
   "execution_count": 38,
   "id": "c3a19562-758f-47b2-a774-e42be3f1aa30",
   "metadata": {},
   "outputs": [],
   "source": [
    "# client.send_post('Hello World')"
   ]
  },
  {
   "cell_type": "markdown",
   "id": "478e9bb4-1a0e-4f92-a088-391a834cf3d8",
   "metadata": {},
   "source": [
    "It worked!"
   ]
  },
  {
   "cell_type": "markdown",
   "id": "57dfc0b9-40e4-4fd7-a7d2-31dbbbf95a76",
   "metadata": {},
   "source": [
    "## Building the Framework of the Bot"
   ]
  },
  {
   "cell_type": "code",
   "execution_count": 39,
   "id": "2da26bd8-beef-40c7-acf8-a798cd35eebf",
   "metadata": {},
   "outputs": [],
   "source": [
    "def create_metadata():\n",
    "    pass"
   ]
  },
  {
   "cell_type": "code",
   "execution_count": 40,
   "id": "76957e16-c07d-46cc-865f-c70519b36741",
   "metadata": {},
   "outputs": [],
   "source": [
    "def pull_galaxy_image(url):\n",
    "    response = requests.get(url)\n",
    "    img_data = BytesIO(response.content)\n",
    "    return img_data"
   ]
  },
  {
   "cell_type": "code",
   "execution_count": 41,
   "id": "880b0f2f-0185-4d16-a54f-acfa8190f504",
   "metadata": {},
   "outputs": [
    {
     "name": "stderr",
     "output_type": "stream",
     "text": [
      "C:\\Users\\oryan\\AppData\\Local\\Temp\\ipykernel_508\\3318211431.py:2: DtypeWarning: Columns (98) have mixed types. Specify dtype option on import or set low_memory=False.\n",
      "  pd.read_csv(f'{data_folder}/jwst_ceers_volunteers_with_zoobot.csv', index_col = 0)\n"
     ]
    }
   ],
   "source": [
    "df = (\n",
    "    pd.read_csv(f'{data_folder}/jwst_ceers_volunteers_with_zoobot.csv', index_col = 0)\n",
    "    .reset_index()\n",
    "    [['url']]\n",
    ")"
   ]
  },
  {
   "cell_type": "code",
   "execution_count": 50,
   "id": "859491ae-281a-415a-a219-2155688467ce",
   "metadata": {},
   "outputs": [],
   "source": [
    "example_url = df.url.iloc[0]"
   ]
  },
  {
   "cell_type": "code",
   "execution_count": 51,
   "id": "aa3e1758-3cbc-43d2-8af9-bb5935e0c8f8",
   "metadata": {},
   "outputs": [],
   "source": [
    "image = pull_galaxy_image(example_url)"
   ]
  },
  {
   "cell_type": "code",
   "execution_count": 52,
   "id": "f4c03b1e-c39f-4873-b536-c873cd3a6a3a",
   "metadata": {},
   "outputs": [],
   "source": [
    "_ = client.send_image(text = 'Post with Image from Python.', image = image, image_alt = 'A Galaxy')"
   ]
  },
  {
   "cell_type": "code",
   "execution_count": null,
   "id": "4f6696a2-301d-4367-bc22-ac373678e570",
   "metadata": {},
   "outputs": [],
   "source": []
  }
 ],
 "metadata": {
  "kernelspec": {
   "display_name": "Python 3 (ipykernel)",
   "language": "python",
   "name": "python3"
  },
  "language_info": {
   "codemirror_mode": {
    "name": "ipython",
    "version": 3
   },
   "file_extension": ".py",
   "mimetype": "text/x-python",
   "name": "python",
   "nbconvert_exporter": "python",
   "pygments_lexer": "ipython3",
   "version": "3.12.0"
  }
 },
 "nbformat": 4,
 "nbformat_minor": 5
}
