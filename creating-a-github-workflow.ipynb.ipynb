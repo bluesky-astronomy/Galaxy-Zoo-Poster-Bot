{
 "cells": [
  {
   "cell_type": "markdown",
   "id": "57e22d1f-c575-4ee3-9d67-b7c2f7ae0755",
   "metadata": {},
   "source": [
    "# Creating a GitHub Workflow"
   ]
  },
  {
   "cell_type": "code",
   "execution_count": null,
   "id": "cb3cc2c4-85bc-4c03-9f54-9f86352ccf38",
   "metadata": {},
   "outputs": [],
   "source": []
  }
 ],
 "metadata": {
  "kernelspec": {
   "display_name": "Python 3 (ipykernel)",
   "language": "python",
   "name": "python3"
  },
  "language_info": {
   "codemirror_mode": {
    "name": "ipython",
    "version": 3
   },
   "file_extension": ".py",
   "mimetype": "text/x-python",
   "name": "python",
   "nbconvert_exporter": "python",
   "pygments_lexer": "ipython3",
   "version": "3.9.19"
  }
 },
 "nbformat": 4,
 "nbformat_minor": 5
}
